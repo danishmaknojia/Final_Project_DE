{
 "cells": [
  {
   "cell_type": "code",
   "execution_count": 9,
   "metadata": {},
   "outputs": [],
   "source": [
    "import pandas as pd\n",
    "import numpy as np\n",
    "import matplotlib.pyplot as plt\n",
    "from pygam import LinearGAM, s\n",
    "from sklearn.model_selection import train_test_split"
   ]
  },
  {
   "cell_type": "code",
   "execution_count": 10,
   "metadata": {},
   "outputs": [],
   "source": [
    "df_2024 = pd.read_csv(\n",
    "    \"/Users/danishmak/Documents/Data Engineering/Final_Project_DE/archive/cbb23.csv\"\n",
    ")"
   ]
  },
  {
   "cell_type": "code",
   "execution_count": 11,
   "metadata": {},
   "outputs": [],
   "source": [
    "df_train = pd.read_csv(\n",
    "    \"/Users/danishmak/Documents/Data Engineering/Final_Project_DE/archive/cbb22.csv\"\n",
    ")"
   ]
  },
  {
   "cell_type": "code",
   "execution_count": 12,
   "metadata": {},
   "outputs": [
    {
     "data": {
      "text/plain": [
       "Index(['TEAM', 'CONF', 'G', 'W', 'ADJOE', 'ADJDE', 'BARTHAG', 'EFG_O',\n",
       "       'EFGD_D', 'TOR', 'TORD', 'ORB', 'DRB', 'FTR', 'FTRD', '2P_O', '2P_D',\n",
       "       '3P_O', '3P_D', 'ADJ_T', 'WAB', 'POSTSEASON', 'SEED'],\n",
       "      dtype='object')"
      ]
     },
     "execution_count": 12,
     "metadata": {},
     "output_type": "execute_result"
    }
   ],
   "source": [
    "df_train.columns"
   ]
  },
  {
   "cell_type": "code",
   "execution_count": 13,
   "metadata": {},
   "outputs": [
    {
     "data": {
      "text/plain": [
       "0      32\n",
       "1      40\n",
       "2      34\n",
       "3      37\n",
       "4      39\n",
       "       ..\n",
       "353    25\n",
       "354    32\n",
       "355    25\n",
       "356    29\n",
       "357    27\n",
       "Name: G, Length: 358, dtype: int64"
      ]
     },
     "execution_count": 13,
     "metadata": {},
     "output_type": "execute_result"
    }
   ],
   "source": [
    "df_train[\"G\"]"
   ]
  },
  {
   "cell_type": "code",
   "execution_count": 14,
   "metadata": {},
   "outputs": [
    {
     "name": "stdout",
     "output_type": "stream",
     "text": [
      "                 TEAM  Predicted_Wins\n",
      "0    Florida Atlantic       34.999998\n",
      "1             Houston       32.999999\n",
      "2       San Diego St.       32.000000\n",
      "3             Alabama       31.000000\n",
      "4         Connecticut       31.000000\n",
      "..                ...             ...\n",
      "358          Hartford        5.000000\n",
      "359        Louisville        4.000000\n",
      "360        California        3.000000\n",
      "361         Green Bay        3.000000\n",
      "362      LIU Brooklyn        3.000000\n",
      "\n",
      "[363 rows x 2 columns]\n"
     ]
    }
   ],
   "source": [
    "df_train = df_train.replace(np.nan, 0)\n",
    "df_2024 = df_2024.replace(np.nan, 0)\n",
    "\n",
    "# Extract relevant features and target variable from the 2023 data\n",
    "X_train = df_train[\n",
    "    [\n",
    "        \"G\",\n",
    "        \"ADJOE\",\n",
    "        \"ADJDE\",\n",
    "        \"BARTHAG\",\n",
    "        \"TOR\",\n",
    "        \"TORD\",\n",
    "        \"ORB\",\n",
    "        \"DRB\",\n",
    "        \"FTR\",\n",
    "        \"FTRD\",\n",
    "        \"2P_O\",\n",
    "        \"2P_D\",\n",
    "        \"3P_O\",\n",
    "        \"3P_D\",\n",
    "        \"ADJ_T\",\n",
    "        \"WAB\",\n",
    "        \"SEED\",\n",
    "    ]\n",
    "]\n",
    "y_train = df_train[\"W\"]\n",
    "\n",
    "# Build and fit the GAM model on 2023 data\n",
    "gam = LinearGAM(\n",
    "    s(0)\n",
    "    + s(1)\n",
    "    + s(2)\n",
    "    + s(3)\n",
    "    + s(4)\n",
    "    + s(5)\n",
    "    + s(6)\n",
    "    + s(7)\n",
    "    + s(8)\n",
    "    + s(9)\n",
    "    + s(10)\n",
    "    + s(11)\n",
    "    + s(12)\n",
    "    + s(13)\n",
    "    + s(14)\n",
    ")\n",
    "gam.fit(X_train, y_train)\n",
    "\n",
    "# Prepare 2024 data and predict team wins\n",
    "X_2024 = df_2024[\n",
    "    [\n",
    "        \"G\",\n",
    "        \"ADJOE\",\n",
    "        \"ADJDE\",\n",
    "        \"BARTHAG\",\n",
    "        \"TOR\",\n",
    "        \"TORD\",\n",
    "        \"ORB\",\n",
    "        \"DRB\",\n",
    "        \"FTR\",\n",
    "        \"FTRD\",\n",
    "        \"2P_O\",\n",
    "        \"2P_D\",\n",
    "        \"3P_O\",\n",
    "        \"3P_D\",\n",
    "        \"ADJ_T\",\n",
    "        \"WAB\",\n",
    "        \"SEED\",\n",
    "    ]\n",
    "]\n",
    "teams_2024 = df_2024[\"TEAM\"]  # Ensure TEAM column is present for ranking\n",
    "\n",
    "# Predict on the 2024 data\n",
    "y_pred_2024 = gam.predict(X_2024)\n",
    "\n",
    "# Combine predictions with team names\n",
    "results_2024 = pd.DataFrame({\"TEAM\": teams_2024, \"Predicted_Wins\": y_pred_2024})\n",
    "\n",
    "# Sort by predicted wins in descending order\n",
    "ranked_results_2023 = results_2024.sort_values(\n",
    "    by=\"Predicted_Wins\", ascending=False\n",
    ").reset_index(drop=True)\n",
    "\n",
    "# Print ranked teams with predicted wins for 2024\n",
    "print(ranked_results_2023)"
   ]
  },
  {
   "cell_type": "code",
   "execution_count": 15,
   "metadata": {},
   "outputs": [
    {
     "data": {
      "text/html": [
       "<div>\n",
       "<style scoped>\n",
       "    .dataframe tbody tr th:only-of-type {\n",
       "        vertical-align: middle;\n",
       "    }\n",
       "\n",
       "    .dataframe tbody tr th {\n",
       "        vertical-align: top;\n",
       "    }\n",
       "\n",
       "    .dataframe thead th {\n",
       "        text-align: right;\n",
       "    }\n",
       "</style>\n",
       "<table border=\"1\" class=\"dataframe\">\n",
       "  <thead>\n",
       "    <tr style=\"text-align: right;\">\n",
       "      <th></th>\n",
       "      <th>TEAM</th>\n",
       "      <th>Predicted_Wins</th>\n",
       "    </tr>\n",
       "  </thead>\n",
       "  <tbody>\n",
       "    <tr>\n",
       "      <th>0</th>\n",
       "      <td>Florida Atlantic</td>\n",
       "      <td>34.999998</td>\n",
       "    </tr>\n",
       "    <tr>\n",
       "      <th>1</th>\n",
       "      <td>Houston</td>\n",
       "      <td>32.999999</td>\n",
       "    </tr>\n",
       "    <tr>\n",
       "      <th>2</th>\n",
       "      <td>San Diego St.</td>\n",
       "      <td>32.000000</td>\n",
       "    </tr>\n",
       "    <tr>\n",
       "      <th>3</th>\n",
       "      <td>Alabama</td>\n",
       "      <td>31.000000</td>\n",
       "    </tr>\n",
       "    <tr>\n",
       "      <th>4</th>\n",
       "      <td>Connecticut</td>\n",
       "      <td>31.000000</td>\n",
       "    </tr>\n",
       "    <tr>\n",
       "      <th>...</th>\n",
       "      <td>...</td>\n",
       "      <td>...</td>\n",
       "    </tr>\n",
       "    <tr>\n",
       "      <th>358</th>\n",
       "      <td>Hartford</td>\n",
       "      <td>5.000000</td>\n",
       "    </tr>\n",
       "    <tr>\n",
       "      <th>359</th>\n",
       "      <td>Louisville</td>\n",
       "      <td>4.000000</td>\n",
       "    </tr>\n",
       "    <tr>\n",
       "      <th>360</th>\n",
       "      <td>California</td>\n",
       "      <td>3.000000</td>\n",
       "    </tr>\n",
       "    <tr>\n",
       "      <th>361</th>\n",
       "      <td>Green Bay</td>\n",
       "      <td>3.000000</td>\n",
       "    </tr>\n",
       "    <tr>\n",
       "      <th>362</th>\n",
       "      <td>LIU Brooklyn</td>\n",
       "      <td>3.000000</td>\n",
       "    </tr>\n",
       "  </tbody>\n",
       "</table>\n",
       "<p>363 rows × 2 columns</p>\n",
       "</div>"
      ],
      "text/plain": [
       "                 TEAM  Predicted_Wins\n",
       "0    Florida Atlantic       34.999998\n",
       "1             Houston       32.999999\n",
       "2       San Diego St.       32.000000\n",
       "3             Alabama       31.000000\n",
       "4         Connecticut       31.000000\n",
       "..                ...             ...\n",
       "358          Hartford        5.000000\n",
       "359        Louisville        4.000000\n",
       "360        California        3.000000\n",
       "361         Green Bay        3.000000\n",
       "362      LIU Brooklyn        3.000000\n",
       "\n",
       "[363 rows x 2 columns]"
      ]
     },
     "execution_count": 15,
     "metadata": {},
     "output_type": "execute_result"
    }
   ],
   "source": [
    "ranked_results_2023"
   ]
  }
 ],
 "metadata": {
  "kernelspec": {
   "display_name": "base",
   "language": "python",
   "name": "python3"
  },
  "language_info": {
   "codemirror_mode": {
    "name": "ipython",
    "version": 3
   },
   "file_extension": ".py",
   "mimetype": "text/x-python",
   "name": "python",
   "nbconvert_exporter": "python",
   "pygments_lexer": "ipython3",
   "version": "3.12.5"
  }
 },
 "nbformat": 4,
 "nbformat_minor": 2
}
